{
 "cells": [
  {
   "cell_type": "markdown",
   "metadata": {},
   "source": [
    "# Documenting Classes\n",
    "\n",
    "It is almost as easy to document a class as it is to document a function. Simply add docstrings to all of the classes functions, and also below the `class Name:` line. For example, here is a simple documented class"
   ]
  },
  {
   "cell_type": "code",
   "execution_count": 5,
   "metadata": {
    "collapsed": true
   },
   "outputs": [],
   "source": [
    "class Demo:\n",
    "    \"\"\"This class demonstrates how to document a class.\n",
    "    \n",
    "       This class is just a demonstration, and does nothing.\n",
    "       \n",
    "       However the principles of documentation are still valid!\n",
    "    \"\"\"\n",
    "    \n",
    "    def __init__(self, name):\n",
    "        \"\"\"You should document the constructor, saying what it expects to \n",
    "           create a valid class. In this case\n",
    "           \n",
    "           name -- the name of an object of this class\n",
    "        \"\"\"\n",
    "        self._name = name\n",
    "    \n",
    "    def getName(self):\n",
    "        \"\"\"You should then document all of the member functions, just as\n",
    "           you do for normal functions. In this case, returns\n",
    "           the name of the object\n",
    "        \"\"\"\n",
    "        return self._name"
   ]
  },
  {
   "cell_type": "code",
   "execution_count": 6,
   "metadata": {},
   "outputs": [],
   "source": [
    "d = Demo(\"cat\")"
   ]
  },
  {
   "cell_type": "code",
   "execution_count": 7,
   "metadata": {},
   "outputs": [
    {
     "name": "stdout",
     "output_type": "stream",
     "text": [
      "Help on Demo in module __main__ object:\n",
      "\n",
      "class Demo(builtins.object)\n",
      " |  This class demonstrates how to document a class.\n",
      " |  \n",
      " |  This class is just a demonstration, and does nothing.\n",
      " |  \n",
      " |  However the principles of documentation are still valid!\n",
      " |  \n",
      " |  Methods defined here:\n",
      " |  \n",
      " |  __init__(self, name)\n",
      " |      You should document the constructor, saying what it expects to \n",
      " |      create a valid class. In this case\n",
      " |      \n",
      " |      name -- the name of an object of this class\n",
      " |  \n",
      " |  getName(self)\n",
      " |      You should then document all of the member functions, just as\n",
      " |      you do for normal functions. In this case, returns\n",
      " |      the name of the object\n",
      " |  \n",
      " |  ----------------------------------------------------------------------\n",
      " |  Data descriptors defined here:\n",
      " |  \n",
      " |  __dict__\n",
      " |      dictionary for instance variables (if defined)\n",
      " |  \n",
      " |  __weakref__\n",
      " |      list of weak references to the object (if defined)\n",
      "\n"
     ]
    }
   ],
   "source": [
    "help(d)"
   ]
  },
  {
   "cell_type": "markdown",
   "metadata": {},
   "source": [
    "Often, when you write a class, you want to hide member data or member functions so that they are only visible within an object of the class. For example, above, the `self._name` member data should be hidden, as it should only be used by the object.\n",
    "\n",
    "You control the visibility of member functions or member data using an underscore. If the member function or member data name starts with an underscore, then it is hidden. Otherwise, the member data or function is visible.\n",
    "\n",
    "For example, we can hide the `getName` function by renaming it to `_getName`"
   ]
  },
  {
   "cell_type": "code",
   "execution_count": 17,
   "metadata": {
    "collapsed": true
   },
   "outputs": [],
   "source": [
    "class Demo:\n",
    "    \"\"\"This class demonstrates how to document a class.\n",
    "    \n",
    "       This class is just a demonstration, and does nothing.\n",
    "       \n",
    "       However the principles of documentation are still valid!\n",
    "    \"\"\"\n",
    "    \n",
    "    def __init__(self, name):\n",
    "        \"\"\"You should document the constructor, saying what it expects to \n",
    "           create a valid class. In this case\n",
    "           \n",
    "           name -- the name of an object of this class\n",
    "        \"\"\"\n",
    "        self._name = name\n",
    "    \n",
    "    def _getName(self):\n",
    "        \"\"\"You should then document all of the member functions, just as\n",
    "           you do for normal functions. In this case, returns\n",
    "           the name of the object\n",
    "        \"\"\"\n",
    "        return self._name"
   ]
  },
  {
   "cell_type": "code",
   "execution_count": 18,
   "metadata": {},
   "outputs": [],
   "source": [
    "d = Demo(\"cat\")"
   ]
  },
  {
   "cell_type": "code",
   "execution_count": 16,
   "metadata": {},
   "outputs": [
    {
     "name": "stdout",
     "output_type": "stream",
     "text": [
      "Help on Demo in module __main__ object:\n",
      "\n",
      "class Demo(builtins.object)\n",
      " |  This class demonstrates how to document a class.\n",
      " |  \n",
      " |  This class is just a demonstration, and does nothing.\n",
      " |  \n",
      " |  However the principles of documentation are still valid!\n",
      " |  \n",
      " |  Methods defined here:\n",
      " |  \n",
      " |  __init__(self, name)\n",
      " |      You should document the constructor, saying what it expects to \n",
      " |      create a valid class. In this case\n",
      " |      \n",
      " |      name -- the name of an object of this class\n",
      " |  \n",
      " |  ----------------------------------------------------------------------\n",
      " |  Data descriptors defined here:\n",
      " |  \n",
      " |  __dict__\n",
      " |      dictionary for instance variables (if defined)\n",
      " |  \n",
      " |  __weakref__\n",
      " |      list of weak references to the object (if defined)\n",
      "\n"
     ]
    }
   ],
   "source": [
    "help(d)"
   ]
  },
  {
   "cell_type": "markdown",
   "metadata": {},
   "source": [
    "Member functions or data that are hidden are called \"private\". Member functions or data that are visible are called \"public\". You should document all public member functions of a class, as these are visible and designed to be used by other people. It is helpful, although not required, to document all of the private member functions of a class, as these will only really be called by you. However, in years to come, you will thank yourself if you still documented them... ;-)\n",
    "\n",
    "While it is possible to make member data public, it is not advised. It is much better to get and set values of member data using public member functions. This makes it easier for you to add checks to ensure that the data is consistent and being used in the right way. For example, compare these two classes that represent a person, and hold their height."
   ]
  },
  {
   "cell_type": "code",
   "execution_count": 21,
   "metadata": {
    "collapsed": true
   },
   "outputs": [],
   "source": [
    "class Person1:\n",
    "    \"\"\"Class that holds a person's height\"\"\"\n",
    "    def __init__(self):\n",
    "        \"\"\"Construct a person who has zero height\"\"\"\n",
    "        self.height = 0"
   ]
  },
  {
   "cell_type": "code",
   "execution_count": 25,
   "metadata": {
    "collapsed": true
   },
   "outputs": [],
   "source": [
    "class Person2:\n",
    "    \"\"\"Class that holds a person's height\"\"\"\n",
    "    def __init__(self):\n",
    "        \"\"\"Construct a person who has zero height\"\"\"\n",
    "        self._height = 0\n",
    "    \n",
    "    def setHeight(self, height):\n",
    "        \"\"\"Set the person's height to 'height', returning whether or \n",
    "           not the height was set successfully\n",
    "        \"\"\"\n",
    "        if height < 0 or height > 300:\n",
    "            print(\"This is an invalid height! %s\" % height)\n",
    "            return False\n",
    "        else:\n",
    "            self._height = height\n",
    "            return True\n",
    "        \n",
    "    def getHeight(self):\n",
    "        \"\"\"Return the person's height\"\"\"\n",
    "        return self._height"
   ]
  },
  {
   "cell_type": "markdown",
   "metadata": {},
   "source": [
    "The first example is quicker to write, but it does little to protect itself against a user who attempts to use the class badly."
   ]
  },
  {
   "cell_type": "code",
   "execution_count": 26,
   "metadata": {
    "collapsed": true
   },
   "outputs": [],
   "source": [
    "p = Person1()"
   ]
  },
  {
   "cell_type": "code",
   "execution_count": 31,
   "metadata": {
    "collapsed": true
   },
   "outputs": [],
   "source": [
    "p.height = -50"
   ]
  },
  {
   "cell_type": "code",
   "execution_count": 34,
   "metadata": {},
   "outputs": [
    {
     "data": {
      "text/plain": [
       "'cat'"
      ]
     },
     "execution_count": 34,
     "metadata": {},
     "output_type": "execute_result"
    }
   ],
   "source": [
    "p.height"
   ]
  },
  {
   "cell_type": "code",
   "execution_count": 33,
   "metadata": {
    "collapsed": true
   },
   "outputs": [],
   "source": [
    "p.height = \"cat\""
   ]
  },
  {
   "cell_type": "code",
   "execution_count": 35,
   "metadata": {},
   "outputs": [
    {
     "data": {
      "text/plain": [
       "'cat'"
      ]
     },
     "execution_count": 35,
     "metadata": {},
     "output_type": "execute_result"
    }
   ],
   "source": [
    "p.height"
   ]
  },
  {
   "cell_type": "markdown",
   "metadata": {},
   "source": [
    "The second example takes more lines of code, but these lines are valuable as they check that the user is using the class correctly. These checks, when combined with good documentation, ensure that your classes can be safely used by others, and that incorrect use will not create difficult-to-find bugs."
   ]
  },
  {
   "cell_type": "code",
   "execution_count": 29,
   "metadata": {
    "collapsed": true
   },
   "outputs": [],
   "source": [
    "p = Person2()"
   ]
  },
  {
   "cell_type": "code",
   "execution_count": 36,
   "metadata": {},
   "outputs": [
    {
     "name": "stdout",
     "output_type": "stream",
     "text": [
      "This is an invalid height! -50\n"
     ]
    },
    {
     "data": {
      "text/plain": [
       "False"
      ]
     },
     "execution_count": 36,
     "metadata": {},
     "output_type": "execute_result"
    }
   ],
   "source": [
    "p.setHeight(-50)"
   ]
  },
  {
   "cell_type": "code",
   "execution_count": 37,
   "metadata": {},
   "outputs": [
    {
     "data": {
      "text/plain": [
       "0"
      ]
     },
     "execution_count": 37,
     "metadata": {},
     "output_type": "execute_result"
    }
   ],
   "source": [
    "p.getHeight()"
   ]
  },
  {
   "cell_type": "code",
   "execution_count": 38,
   "metadata": {},
   "outputs": [
    {
     "ename": "TypeError",
     "evalue": "unorderable types: str() < int()",
     "output_type": "error",
     "traceback": [
      "\u001b[0;31m---------------------------------------------------------------------------\u001b[0m",
      "\u001b[0;31mTypeError\u001b[0m                                 Traceback (most recent call last)",
      "\u001b[0;32m<ipython-input-38-bce27b7f2122>\u001b[0m in \u001b[0;36m<module>\u001b[0;34m()\u001b[0m\n\u001b[0;32m----> 1\u001b[0;31m \u001b[0mp\u001b[0m\u001b[0;34m.\u001b[0m\u001b[0msetHeight\u001b[0m\u001b[0;34m(\u001b[0m\u001b[0;34m\"cat\"\u001b[0m\u001b[0;34m)\u001b[0m\u001b[0;34m\u001b[0m\u001b[0m\n\u001b[0m",
      "\u001b[0;32m<ipython-input-25-e60e8fef7814>\u001b[0m in \u001b[0;36msetHeight\u001b[0;34m(self, height)\u001b[0m\n\u001b[1;32m      9\u001b[0m            \u001b[0;32mnot\u001b[0m \u001b[0mthe\u001b[0m \u001b[0mheight\u001b[0m \u001b[0mwas\u001b[0m \u001b[0mset\u001b[0m \u001b[0msuccessfully\u001b[0m\u001b[0;34m\u001b[0m\u001b[0m\n\u001b[1;32m     10\u001b[0m         \"\"\"\n\u001b[0;32m---> 11\u001b[0;31m         \u001b[0;32mif\u001b[0m \u001b[0mheight\u001b[0m \u001b[0;34m<\u001b[0m \u001b[0;36m0\u001b[0m \u001b[0;32mor\u001b[0m \u001b[0mheight\u001b[0m \u001b[0;34m>\u001b[0m \u001b[0;36m300\u001b[0m\u001b[0;34m:\u001b[0m\u001b[0;34m\u001b[0m\u001b[0m\n\u001b[0m\u001b[1;32m     12\u001b[0m             \u001b[0mprint\u001b[0m\u001b[0;34m(\u001b[0m\u001b[0;34m\"This is an invalid height! %s\"\u001b[0m \u001b[0;34m%\u001b[0m \u001b[0mheight\u001b[0m\u001b[0;34m)\u001b[0m\u001b[0;34m\u001b[0m\u001b[0m\n\u001b[1;32m     13\u001b[0m             \u001b[0;32mreturn\u001b[0m \u001b[0;32mFalse\u001b[0m\u001b[0;34m\u001b[0m\u001b[0m\n",
      "\u001b[0;31mTypeError\u001b[0m: unorderable types: str() < int()"
     ]
    }
   ],
   "source": [
    "p.setHeight(\"cat\")"
   ]
  },
  {
   "cell_type": "code",
   "execution_count": 39,
   "metadata": {},
   "outputs": [
    {
     "data": {
      "text/plain": [
       "0"
      ]
     },
     "execution_count": 39,
     "metadata": {},
     "output_type": "execute_result"
    }
   ],
   "source": [
    "p.getHeight()"
   ]
  },
  {
   "cell_type": "markdown",
   "metadata": {},
   "source": [
    "# Exercise\n",
    "\n",
    "## Exercise 1\n",
    "\n",
    "Below is the completed `GuessGame` class from the previous lesson. Add documentation to this class."
   ]
  },
  {
   "cell_type": "code",
   "execution_count": 40,
   "metadata": {
    "collapsed": true
   },
   "outputs": [],
   "source": [
    "class GuessGame:\n",
    "    def __init__(self, secret, max_guesses=5):\n",
    "        self._secret = secret\n",
    "        self._nguesses = 0\n",
    "        self._max_guesses = max_guesses\n",
    "    \n",
    "    def guess(self, value):\n",
    "        if (self.nGuesses() >= self.maxGuesses()):\n",
    "            print(\"Sorry, you have run out of guesses\")\n",
    "        elif (value == self._secret):\n",
    "            print(\"Well done - you have guessed my secret\")\n",
    "        else:\n",
    "            self._nguesses += 1\n",
    "            print(\"Try again...\")\n",
    "    \n",
    "    def nGuesses(self):\n",
    "        return self._nguesses\n",
    "    \n",
    "    def maxGuesses(self):\n",
    "        return self._max_guesses"
   ]
  },
  {
   "cell_type": "markdown",
   "metadata": {},
   "source": [
    "## Exercise 2\n",
    "\n",
    "Below is a poorly-written class that uses public member data to store the name and age of a Person. Edit this class so that the member data is made private. Add `get` and `set` functions that allow you to safely get and set the name and age."
   ]
  },
  {
   "cell_type": "code",
   "execution_count": 41,
   "metadata": {
    "collapsed": true
   },
   "outputs": [],
   "source": [
    "class Person:\n",
    "    \"\"\"Class the represents a Person, holding their name and age\"\"\"\n",
    "    def __init__(self):\n",
    "        \"\"\"Construct a person with unknown name and an age of 0\"\"\"\n",
    "        self.name = \"unknown\"\n",
    "        self.age = 0"
   ]
  },
  {
   "cell_type": "markdown",
   "metadata": {},
   "source": [
    "## Exercise 3\n",
    "\n",
    "Add a private member function called `_splitName` to your `Person` class that breaks the name into a surname and first name. Add new functions called `getFirstName` and `getSurname` that use this function to return the first name and surname of the person."
   ]
  },
  {
   "cell_type": "code",
   "execution_count": 54,
   "metadata": {},
   "outputs": [],
   "source": [
    "class Person:\n",
    "    \"\"\"Class the represents a Person, holding their name and age\"\"\"\n",
    "    def __init__(self, name, age):\n",
    "        \"\"\"Construct a person with unknown name and an age of 0\"\"\"\n",
    "        self.setName(name)\n",
    "        self.setAge(age)\n",
    "        \n",
    "    def setName(self, name):\n",
    "        self._name = str(name)\n",
    "        \n",
    "    def setAge(self, age):\n",
    "        if age < 0 or age > 130:\n",
    "            return False\n",
    "        else:\n",
    "            self._age = age\n",
    "            return True\n",
    "        \n",
    "    def getName(self):\n",
    "        return self._name\n",
    "    \n",
    "    def getAge(self):\n",
    "        return self._age\n",
    "        \n",
    "    def _splitName(self):\n",
    "        return self._name.split(\" \")\n",
    "    \n",
    "    def getFirstName(self):\n",
    "        return self._splitName()[0]\n",
    "    \n",
    "    def getSurname(self):\n",
    "        return self._splitName()[-1]"
   ]
  },
  {
   "cell_type": "code",
   "execution_count": 55,
   "metadata": {},
   "outputs": [],
   "source": [
    "p = Person(\"Peter Parker\", 19)\n"
   ]
  },
  {
   "cell_type": "code",
   "execution_count": 57,
   "metadata": {},
   "outputs": [
    {
     "data": {
      "text/plain": [
       "'Peter Parker'"
      ]
     },
     "execution_count": 57,
     "metadata": {},
     "output_type": "execute_result"
    }
   ],
   "source": [
    "p.getName()"
   ]
  },
  {
   "cell_type": "code",
   "execution_count": null,
   "metadata": {
    "collapsed": true
   },
   "outputs": [],
   "source": []
  }
 ],
 "metadata": {
  "kernelspec": {
   "display_name": "Python 3",
   "language": "python",
   "name": "python3"
  },
  "language_info": {
   "codemirror_mode": {
    "name": "ipython",
    "version": 3
   },
   "file_extension": ".py",
   "mimetype": "text/x-python",
   "name": "python",
   "nbconvert_exporter": "python",
   "pygments_lexer": "ipython3",
   "version": "3.5.3"
  }
 },
 "nbformat": 4,
 "nbformat_minor": 2
}
