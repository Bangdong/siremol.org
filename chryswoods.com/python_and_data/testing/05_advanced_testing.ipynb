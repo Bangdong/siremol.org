{
 "cells": [
  {
   "cell_type": "markdown",
   "metadata": {},
   "source": [
    "# Advanced testing\n",
    "\n",
    "Up till now we have been testing functions where the output is entirely predictable. In these cases, a handful of tests is usually enough to provide confidence that the software is working as expected. In the real world, however, you might be developing a complex piece of sofware to implement an entirely new algorithm, or model. In certain cases it might not even be clear what the expected outcome is meant to be. Things can be particularly challenging when the software is involves a stochastic element.\n",
    "\n",
    "Let us consider a class to simulate the behaviour of a dice. One is provided in the `dice` directory. Let's import it and see how it works."
   ]
  },
  {
   "cell_type": "code",
   "execution_count": 1,
   "metadata": {},
   "outputs": [
    {
     "name": "stdout",
     "output_type": "stream",
     "text": [
      "Help on class Dice in module dice.dice:\n",
      "\n",
      "class Dice(builtins.object)\n",
      " |  A simple class for an n-sided fair dice.\n",
      " |  \n",
      " |  Methods defined here:\n",
      " |  \n",
      " |  __init__(self, n=6, seed=None)\n",
      " |      Construct a n-sided dice.\n",
      " |      \n",
      " |      n -- The number of sides on the dice.\n",
      " |  \n",
      " |  lastRoll(self)\n",
      " |      Return the value of the last dice roll.\n",
      " |  \n",
      " |  roll(self)\n",
      " |      Roll the dice and return its value.\n",
      " |  \n",
      " |  sides(self)\n",
      " |      Return number of sides of the dice.\n",
      " |  \n",
      " |  ----------------------------------------------------------------------\n",
      " |  Data descriptors defined here:\n",
      " |  \n",
      " |  __dict__\n",
      " |      dictionary for instance variables (if defined)\n",
      " |  \n",
      " |  __weakref__\n",
      " |      list of weak references to the object (if defined)\n",
      "\n"
     ]
    }
   ],
   "source": [
    "from dice import Dice\n",
    "help(Dice)"
   ]
  },
  {
   "cell_type": "markdown",
   "metadata": {},
   "source": [
    "How could we test that the dice is fair?\n",
    "\n",
    "Well, first of all we could test that the value of a dice roll is in range."
   ]
  },
  {
   "cell_type": "code",
   "execution_count": 2,
   "metadata": {
    "collapsed": true
   },
   "outputs": [],
   "source": [
    "dice = Dice()        # A standard, six-sided dice.\n",
    "roll = dice.roll()\n",
    "assert roll > 0\n",
    "assert roll < 7"
   ]
  },
  {
   "cell_type": "markdown",
   "metadata": {},
   "source": [
    "Great, that worked. Although, it could just be a fluke...\n",
    "\n",
    "In practice, we need to check that the assertions hold repeatedly."
   ]
  },
  {
   "cell_type": "code",
   "execution_count": 3,
   "metadata": {
    "collapsed": true
   },
   "outputs": [],
   "source": [
    "for i in range(0, 1000):\n",
    "    roll = dice.roll()\n",
    "    assert roll > 0\n",
    "    assert roll < 7"
   ]
  },
  {
   "cell_type": "markdown",
   "metadata": {},
   "source": [
    "Okay, that's better. Or is it...\n",
    "\n",
    "![xkcd: random](https://imgs.xkcd.com/comics/random_number.png)\n",
    "\n",
    "Not again!\n",
    "\n",
    "Perhaps we should test the average value. We know that this should equal the sum of the faces of the dice, divided by the number of sides, i.e. 3.5 for a six-sided dice."
   ]
  },
  {
   "cell_type": "code",
   "execution_count": 4,
   "metadata": {
    "collapsed": true
   },
   "outputs": [],
   "source": [
    "from pytest import approx\n",
    "\n",
    "rolls = 1000000\n",
    "sum = 0\n",
    "for i in range(0, rolls):\n",
    "    sum += dice.roll()\n",
    "\n",
    "sum /= rolls\n",
    "\n",
    "assert sum == approx(3.5, 1e-3)"
   ]
  },
  {
   "cell_type": "markdown",
   "metadata": {},
   "source": [
    "Good... Hang on, hold your horses!"
   ]
  },
  {
   "cell_type": "code",
   "execution_count": 5,
   "metadata": {},
   "outputs": [
    {
     "data": {
      "text/plain": [
       "3.5"
      ]
     },
     "execution_count": 5,
     "metadata": {},
     "output_type": "execute_result"
    }
   ],
   "source": [
    "(1 + 3 + 4 + 6) / 4"
   ]
  },
  {
   "cell_type": "markdown",
   "metadata": {},
   "source": [
    "Dang! We need to test that the _distrubtion_ of outcomes is correct, i.e. that each of the six possible outcomes is equally likely."
   ]
  },
  {
   "cell_type": "code",
   "execution_count": 6,
   "metadata": {
    "collapsed": true
   },
   "outputs": [],
   "source": [
    "rolls = 1000000\n",
    "\n",
    "tally = {}\n",
    "for i in range(1, 7):\n",
    "    tally[i] = 0\n",
    "    \n",
    "for i in range(0, rolls):\n",
    "    tally[dice.roll()] += 1\n",
    "\n",
    "for i in range(1, 7):\n",
    "    assert tally[i] / rolls == approx(1/6, 1e-2)"
   ]
  },
  {
   "cell_type": "markdown",
   "metadata": {
    "collapsed": true
   },
   "source": [
    "Phew, thanks goodness! Testing is hard.\n",
    "\n",
    "# Exercise\n",
    "\n",
    "#### Exercise 1\n",
    "\n",
    "The file `dice/test/test_dice.py` contains an empty function, `test_double_roll`, for checking that the distribution for the sum of two dice rolls is correct. Fill in the body of this function to test that the distrution is correct for two standard six-sided dice. Run `pytest dice` to verify that your test passes.\n",
    "\n",
    "_Hints_:\n",
    "\n",
    "For any two n-sided dice, the probability of the sum of two rolls being a value of `x` is given by:\n",
    "\n",
    "$$p(x) = \\frac{n - |x - (n+1)|}{n^2},\\quad\\mathrm{for}\\ x=2\\ \\mathrm{to}\\ 2n$$\n",
    "\n",
    "In python, the absolute value of a number can be found using the `abs` function, e.g.\n",
    "\n",
    "```python\n",
    "abs(-2) == 2\n",
    "True\n",
    "```\n",
    "\n",
    "#### Exercise 2\n",
    "\n",
    "Parametrize your test function so that it works for any pair of n-sided dice."
   ]
  }
 ],
 "metadata": {
  "kernelspec": {
   "display_name": "Python 3",
   "language": "python",
   "name": "python3"
  },
  "language_info": {
   "codemirror_mode": {
    "name": "ipython",
    "version": 3
   },
   "file_extension": ".py",
   "mimetype": "text/x-python",
   "name": "python",
   "nbconvert_exporter": "python",
   "pygments_lexer": "ipython3",
   "version": "3.6.3"
  }
 },
 "nbformat": 4,
 "nbformat_minor": 2
}
